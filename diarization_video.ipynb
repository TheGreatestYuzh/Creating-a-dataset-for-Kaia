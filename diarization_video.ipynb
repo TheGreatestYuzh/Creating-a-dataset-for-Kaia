{
 "cells": [
  {
   "cell_type": "code",
   "execution_count": null,
   "metadata": {},
   "outputs": [],
   "source": [
    "from datetime import timedelta\n",
    "import os\n",
    "import whisperx\n",
    "\n",
    "def transcribe_video(input_video):\n",
    "    batch_size = 32 \n",
    "    compute_type = \"float32\"  \n",
    "    device = \"cpu\"\n",
    "\n",
    "    model = whisperx.load_model(\"large-v2\", device=device, compute_type=compute_type)\n",
    "\n",
    "    audio = whisperx.load_audio(input_video)\n",
    "    result = model.transcribe(audio, batch_size=batch_size, language=\"ru\")\n",
    "\n",
    "    model_a, metadata = whisperx.load_align_model(language_code=result[\"language\"], device=device)\n",
    "    result = whisperx.align(result[\"segments\"], model_a, metadata, audio, device, return_char_alignments=False)\n",
    "\n",
    "    segments = result[\"segments\"]\n",
    "\n",
    "\n",
    "   # if srt file exists, delete it\n",
    "    if os.path.exists(\"subtitles.srt\"):\n",
    "        os.remove(\"subtitles.srt\")\n",
    "    for index, segment in enumerate(segments):\n",
    "        startTime = str(0)+str(timedelta(seconds=int(segment['start'])))+',000'\n",
    "        endTime = str(0)+str(timedelta(seconds=int(segment['end'])))+',000'\n",
    "        text = segment['text']\n",
    "        print(text)\n",
    "        segment = f\"{index + 1}\\n{startTime} --> {endTime}\\n{text[1:] if text[0] == ' ' else text}\\n\\n\"\n",
    "\n",
    "        srtFilename = os.path.join(f\"subtitles.srt\")\n",
    "        with open(srtFilename, 'a', encoding='utf-8') as srtFile:\n",
    "            srtFile.write(segment)\n",
    "\n",
    "    return srtFilename\n",
    "\n",
    "\n",
    "\n",
    "def main():\n",
    "    input_video_path = \"lego_movie_trailer.mp4\"\n",
    "    transcribe_video(input_video_path)\n",
    "\n",
    "main()"
   ]
  },
  {
   "cell_type": "code",
   "execution_count": null,
   "metadata": {},
   "outputs": [],
   "source": [
    "import subprocess\n",
    "\n",
    "def add_srt_to_video(input_video, output_file):\n",
    "\n",
    "    # FFmpeg command\n",
    "    subtitles_file = 'subtitles.srt'\n",
    "\n",
    "    # FFmpeg command\n",
    "    ffmpeg_command = f\"\"\"ffmpeg -i {input_video} -vf \"subtitles={subtitles_file}:force_style='FontName=Arial,FontSize=10,PrimaryColour=&HFFFFFF,OutlineColour=&H000000,BorderStyle=3,Outline=1,Shadow=1,Alignment=2,MarginV=10'\" -c:a copy {output_file} -y\"\"\"\n",
    "\n",
    "    # Run the FFmpeg command\n",
    "    subprocess.run(ffmpeg_command, shell=True, check=True)\n",
    "\n",
    "input_video_path = \"lego_movie_trailer.mp4\"\n",
    "output_file = \"output.mp4\"\n",
    "add_srt_to_video(input_video_path, output_file)"
   ]
  }
 ],
 "metadata": {
  "language_info": {
   "name": "python"
  }
 },
 "nbformat": 4,
 "nbformat_minor": 2
}
